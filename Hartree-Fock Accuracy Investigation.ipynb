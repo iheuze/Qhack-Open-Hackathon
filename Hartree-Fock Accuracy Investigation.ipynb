{
 "cells": [
  {
   "cell_type": "markdown",
   "metadata": {},
   "source": [
    "# Investigating the Accuracy of the Hartree-Fock Energy of H2 by Comparing it with the Second-Order Moller-Plesset Perturbation Theory Energy"
   ]
  },
  {
   "cell_type": "markdown",
   "metadata": {},
   "source": [
    "### Calculating the Second-Order Moller-Plesset Perturbation Theory (MP2) energy of the H2 molecule in the reference state (1100)"
   ]
  },
  {
   "cell_type": "code",
   "execution_count": 59,
   "metadata": {
    "colab": {
     "base_uri": "https://localhost:8080/",
     "height": 292
    },
    "id": "LZaIR5ayefOu",
    "outputId": "1f289a6d-74fb-4b9c-ceb2-65d5b0b3bacb"
   },
   "outputs": [
    {
     "name": "stdout",
     "output_type": "stream",
     "text": [
      "-1.0570227140108972\n"
     ]
    }
   ],
   "source": [
    "def hydrogen_reference_state_mp2_energy():\n",
    "    \"\"\"\n",
    "    Calculates the Second-Order Moller-Plesset Perturbation Theory (MP2) energy of the H2 molecule in the reference state (1100).\n",
    "    The reference energies and wave functions are obtained using psi4. From this, orbital occupation and energy are obtained.\n",
    "    The Electron Repulsion Integral (ERI) is obtained using psi4.\n",
    "    This is in the Atomic Orbital (AO) basis and needs to be transformed to the Molecular Orbital (MO) basis before it can be used.\n",
    "    This is done by obtaining the orbital coefficient matrix, C, from the reference wavefunction.\n",
    "    ERI in the MO basis along with the energy denomiators of the orbitals are used to calculate the total mp2 energy\n",
    "    \"\"\"\n",
    "    # Setting computational resources and output options\n",
    "    psi4.set_memory(int(2e9))\n",
    "    psi4.core.set_output_file('output.dat', False)\n",
    "    computational_options = {\n",
    "        'basis': '6-31g',\n",
    "        'scf_type': 'pk',\n",
    "        'mp2_type': 'conv',\n",
    "        'e_convergence': 1e-8,\n",
    "        'd_convergence': 1e-8\n",
    "    }\n",
    "    psi4.set_options(computational_options)\n",
    "\n",
    "    # Defining the H-2 molecule\n",
    "    hydrogen_molecule = psi4.geometry(\"\"\"\n",
    "        H 0 0 -0.6614\n",
    "        H 0 0 0.6614 \n",
    "        symmetry c1\n",
    "    \"\"\")\n",
    "\n",
    "    # Doing the SCF calculation to obtain reference the wavefunction and energy\n",
    "    ref_energy, ref_wavefunction = psi4.energy('scf', return_wfn=True)\n",
    "\n",
    "    # Getting the number of doubly occupied orbitals and total number of orbitals\n",
    "    num_doubly_occupied = ref_wavefunction.nalpha()\n",
    "    num_molecular_orbitals = ref_wavefunction.nmo()\n",
    "\n",
    "    # Getting orbital energies\n",
    "    orbital_energies = np.asarray(ref_wavefunction.epsilon_a())\n",
    "    occupied_orbital_energies = orbital_energies[:num_doubly_occupied]\n",
    "    virtual_orbital_energies = orbital_energies[num_doubly_occupied:]\n",
    "\n",
    "    # Making the electron repulsion integral (ERI) tensor\n",
    "    molecular_integrals = psi4.core.MintsHelper(ref_wavefunction.basisset())\n",
    "    eri_tensor = np.asarray(molecular_integrals.ao_eri())\n",
    "\n",
    "    # Obtaining molecular orbital (MO) coefficients from the SCF wavefunction\n",
    "    mo_coefficients = np.asarray(ref_wavefunction.Ca())\n",
    "    occupied_mo_coefficients = mo_coefficients[:, :num_doubly_occupied]\n",
    "    virtual_mo_coefficients = mo_coefficients[:, num_doubly_occupied:]\n",
    "\n",
    "    # Transforming the ERI tensor to the MO basis\n",
    "    intermediate_tensor = np.einsum('pi,pqrs->iqrs', occupied_mo_coefficients, eri_tensor, optimize=True)\n",
    "    intermediate_tensor = np.einsum('qa,iqrs->iars', virtual_mo_coefficients, intermediate_tensor, optimize=True)\n",
    "    intermediate_tensor = np.einsum('iars,rj->iajs', intermediate_tensor, occupied_mo_coefficients, optimize=True)\n",
    "    eri_mo_basis = np.einsum('iajs,sb->iajb', intermediate_tensor, virtual_mo_coefficients, optimize=True)\n",
    "\n",
    "    # Calculating the MP2 energy- sum of the interactions of particles with the same spin and the interactions of particles with different spins\n",
    "    energy_denominator = 1 / (occupied_orbital_energies.reshape(-1, 1, 1, 1) - virtual_orbital_energies.reshape(-1, 1, 1) +\n",
    "                              occupied_orbital_energies.reshape(-1, 1) - virtual_orbital_energies)\n",
    "    mp2_diff_spins = np.einsum('iajb,iajb,iajb->', eri_mo_basis, eri_mo_basis, energy_denominator, optimize=True)\n",
    "    mp2_same_spins = np.einsum('iajb,iajb,iajb->', eri_mo_basis, eri_mo_basis - eri_mo_basis.swapaxes(1,3), energy_denominator, optimize=True)\n",
    "    total_mp2_energy = ref_energy + mp2_diff_spins + mp2_same_spins\n",
    "\n",
    "    return total_mp2_energy.item()\n",
    "energy_mp2 = hydrogen_reference_state_mp2_energy()"
   ]
  },
  {
   "cell_type": "markdown",
   "metadata": {},
   "source": [
    "### Calculating the Hartree-Fock (HF) energy of the H2 molecule in the reference state (1100)"
   ]
  },
  {
   "cell_type": "code",
   "execution_count": 60,
   "metadata": {
    "id": "X5LjnM5uN61H"
   },
   "outputs": [],
   "source": [
    "symbols  = ['H', 'H']\n",
    "geometry = np.array([[0.0, 0.0, 0.0], [0.0, 0.0, 1.0]], requires_grad = False)\n",
    "alpha = np.array([[3.42525091, 0.62391373, 0.1688554 ],\n",
    "                   [3.42525091, 0.62391373, 0.1688554]], requires_grad=True)\n",
    "mol = qml.qchem.Molecule(symbols, geometry, alpha=alpha)\n",
    "args = [alpha]\n",
    "\n",
    "energy_hf = np.array(qml.qchem.hf_energy(mol)(*args)).item()"
   ]
  },
  {
   "cell_type": "markdown",
   "metadata": {},
   "source": [
    "### Comparison between Hartree-Fock energy and Second-Order Moller-Plesset Perturbation Theory Energy for H2 in the reference state 1100"
   ]
  },
  {
   "cell_type": "code",
   "execution_count": 67,
   "metadata": {},
   "outputs": [
    {
     "name": "stdout",
     "output_type": "stream",
     "text": [
      "Second-Order Moller-Plesset Perturbation Theory Energy: -1.0570227140108972\n",
      "Hartree-Fock energy: -1.0659994584784829\n",
      "Accuracy: 0.85%\n"
     ]
    }
   ],
   "source": [
    "print('Second-Order Moller-Plesset Perturbation Theory Energy:', energy_mp2)\n",
    "print('Hartree-Fock energy:', energy_hf)\n",
    "print(f'Accuracy: {100 * np.positive(energy_hf - energy_mp2)/ energy_mp2:.2f}%')"
   ]
  },
  {
   "cell_type": "markdown",
   "metadata": {},
   "source": [
    "#### We can see that whilst Second-Order Moller-Plesset Perturbation Theory gives a more accurate result by accounting for electron repulsion, in the H2 molecule, the result of Hartree-Fock is very close and can be considered a good approximation"
   ]
  },
  {
   "cell_type": "code",
   "execution_count": null,
   "metadata": {},
   "outputs": [],
   "source": []
  }
 ],
 "metadata": {
  "colab": {
   "provenance": []
  },
  "kernelspec": {
   "display_name": "Python 3 (ipykernel)",
   "language": "python",
   "name": "python3"
  },
  "language_info": {
   "codemirror_mode": {
    "name": "ipython",
    "version": 3
   },
   "file_extension": ".py",
   "mimetype": "text/x-python",
   "name": "python",
   "nbconvert_exporter": "python",
   "pygments_lexer": "ipython3",
   "version": "3.12.2"
  }
 },
 "nbformat": 4,
 "nbformat_minor": 4
}
